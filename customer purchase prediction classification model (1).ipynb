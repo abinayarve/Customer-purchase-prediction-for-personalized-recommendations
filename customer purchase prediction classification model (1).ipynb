{
 "cells": [
  {
   "cell_type": "code",
   "execution_count": 60,
   "id": "8b782f0a",
   "metadata": {},
   "outputs": [
    {
     "name": "stdout",
     "output_type": "stream",
     "text": [
      "  Invoice StockCode                          Description  Quantity  \\\n",
      "0  489434     85048  15CM CHRISTMAS GLASS BALL 20 LIGHTS        12   \n",
      "1  489434    79323P                   PINK CHERRY LIGHTS        12   \n",
      "2  489434    79323W                  WHITE CHERRY LIGHTS        12   \n",
      "3  489434     22041         RECORD FRAME 7\" SINGLE SIZE         48   \n",
      "4  489434     21232       STRAWBERRY CERAMIC TRINKET BOX        24   \n",
      "\n",
      "           InvoiceDate  Price  Customer ID         Country  \n",
      "0  2009-12-01 07:45:00   6.95      13085.0  United Kingdom  \n",
      "1  2009-12-01 07:45:00   6.75      13085.0  United Kingdom  \n",
      "2  2009-12-01 07:45:00   6.75      13085.0  United Kingdom  \n",
      "3  2009-12-01 07:45:00   2.10      13085.0  United Kingdom  \n",
      "4  2009-12-01 07:45:00   1.25      13085.0  United Kingdom  \n",
      "<class 'pandas.core.frame.DataFrame'>\n",
      "RangeIndex: 1067371 entries, 0 to 1067370\n",
      "Data columns (total 8 columns):\n",
      " #   Column       Non-Null Count    Dtype  \n",
      "---  ------       --------------    -----  \n",
      " 0   Invoice      1067371 non-null  object \n",
      " 1   StockCode    1067371 non-null  object \n",
      " 2   Description  1062989 non-null  object \n",
      " 3   Quantity     1067371 non-null  int64  \n",
      " 4   InvoiceDate  1067371 non-null  object \n",
      " 5   Price        1067371 non-null  float64\n",
      " 6   Customer ID  824364 non-null   float64\n",
      " 7   Country      1067371 non-null  object \n",
      "dtypes: float64(2), int64(1), object(5)\n",
      "memory usage: 65.1+ MB\n",
      "None\n"
     ]
    }
   ],
   "source": [
    "import pandas as pd\n",
    "import numpy as np\n",
    "\n",
    "data = pd.read_csv('online_retail_II.csv')\n",
    "\n",
    "print(data.head())\n",
    "print(data.info())"
   ]
  },
  {
   "cell_type": "code",
   "execution_count": 61,
   "id": "776bb1e8",
   "metadata": {},
   "outputs": [],
   "source": [
    "data.dropna(subset=['Customer ID', 'InvoiceDate', 'Quantity', 'Price'], inplace=True)\n",
    "\n",
    "data['TotalPrice'] = data['Quantity'] * data['Price']\n",
    "\n",
    "median_spent = data.groupby('Customer ID')['TotalPrice'].sum().median()\n",
    "data['PurchaseClass'] = data.groupby('Customer ID')['TotalPrice'].transform('sum').apply(lambda x: 1 if x > median_spent else 0)"
   ]
  },
  {
   "cell_type": "code",
   "execution_count": 62,
   "id": "85db349a",
   "metadata": {},
   "outputs": [],
   "source": [
    "X = data[['Quantity', 'Price']].values  \n",
    "y = data['PurchaseClass'].values \n",
    "\n",
    "train_size = int(0.8 * len(X))\n",
    "X_train, X_test = X[:train_size], X[train_size:]\n",
    "y_train, y_test = y[:train_size], y[train_size:]"
   ]
  },
  {
   "cell_type": "code",
   "execution_count": 63,
   "id": "69eca14d",
   "metadata": {},
   "outputs": [],
   "source": [
    "class NaiveBayes:\n",
    "    def fit(self, X, y):\n",
    "        self.classes = np.unique(y)\n",
    "        self.class_probs = {}\n",
    "        self.feature_probs = {}\n",
    "\n",
    "        for c in self.classes:\n",
    "            X_c = X[y == c]\n",
    "            self.class_probs[c] = len(X_c) / len(y)\n",
    "\n",
    "            feature_probs_c = []\n",
    "            for j in range(X.shape[1]):\n",
    "                mean = np.mean(X_c[:, j])\n",
    "                var = np.var(X_c[:, j])\n",
    "                feature_probs_c.append((mean, var))\n",
    "            self.feature_probs[c] = feature_probs_c\n",
    "\n",
    "    def predict(self, X):\n",
    "        y_pred = []\n",
    "        for x in X:\n",
    "            probs = []\n",
    "            for c in self.classes:\n",
    "                prob = np.log(self.class_probs[c])\n",
    "                for j in range(len(x)):\n",
    "                    mean, var = self.feature_probs[c][j]\n",
    "                    prob += np.log(self.gaussian_likelihood(x[j], mean, var))\n",
    "                probs.append(prob)\n",
    "            y_pred.append(self.classes[np.argmax(probs)])\n",
    "        return np.array(y_pred)\n",
    "\n",
    "    def gaussian_likelihood(self, x, mean, var):\n",
    "        return (1 / np.sqrt(2 * np.pi * var)) * np.exp(-(x - mean) ** 2 / (2 * var))"
   ]
  },
  {
   "cell_type": "code",
   "execution_count": 66,
   "id": "b81e5b9a",
   "metadata": {},
   "outputs": [
    {
     "name": "stderr",
     "output_type": "stream",
     "text": [
      "C:\\Users\\rveab\\AppData\\Local\\Temp\\ipykernel_21452\\2478300304.py:30: RuntimeWarning: divide by zero encountered in log\n",
      "  prob += np.log(self.gaussian_likelihood(x[j], mean, var))\n"
     ]
    },
    {
     "name": "stdout",
     "output_type": "stream",
     "text": [
      "Accuracy: 0.85\n"
     ]
    }
   ],
   "source": [
    "nb = NaiveBayes()\n",
    "nb.fit(X_train, y_train)\n",
    "\n",
    "y_pred = nb.predict(X_test)\n",
    "\n",
    "accuracy = np.mean(y_pred == y_test)\n",
    "print(f\"Accuracy: {accuracy:.2f}\")"
   ]
  },
  {
   "cell_type": "code",
   "execution_count": null,
   "id": "d3329df2",
   "metadata": {},
   "outputs": [],
   "source": []
  }
 ],
 "metadata": {
  "kernelspec": {
   "display_name": "Python 3 (ipykernel)",
   "language": "python",
   "name": "python3"
  },
  "language_info": {
   "codemirror_mode": {
    "name": "ipython",
    "version": 3
   },
   "file_extension": ".py",
   "mimetype": "text/x-python",
   "name": "python",
   "nbconvert_exporter": "python",
   "pygments_lexer": "ipython3",
   "version": "3.10.9"
  }
 },
 "nbformat": 4,
 "nbformat_minor": 5
}
